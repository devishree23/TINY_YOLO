{
 "cells": [
  {
   "cell_type": "code",
   "execution_count": 1,
   "metadata": {},
   "outputs": [],
   "source": [
    "import cv2\n",
    "import numpy as np\n",
    "import math\n",
    "import os\n",
    "from PIL import Image\n",
    "import pandas as pd\n",
    "from sklearn import metrics\n",
    "import time\n",
    "from sklearn.model_selection import train_test_split\n",
    "from sklearn import metrics\n",
    "\n",
    "import tensorflow as tf\n",
    "import tensorflow_hub as hub\n",
    "\n",
    "from tensorflow import keras\n",
    "from tensorflow.keras import layers\n",
    "from tensorflow.keras.models import Sequential"
   ]
  },
  {
   "cell_type": "code",
   "execution_count": 2,
   "metadata": {},
   "outputs": [],
   "source": [
    "#Initializing\n",
    "CONFIDENCE = 0.5\n",
    "SCORE_THRESHOLD = 0.5\n",
    "IOU_THRESHOLD = 0.5\n",
    "\n",
    "#Loading the ground truth values from file \n",
    "groundtruth = pd.read_csv(\"Groundtruth.csv\")\n",
    "\n",
    "#Loading COCO class labels which YOLO was trained on\n",
    "labelsPath = os.path.sep.join([\"coco.names\"])\n",
    "LABELS = open(labelsPath).read().strip().split(\"\\n\")\n",
    "\n",
    "weightsPath = \"yolov4-tiny.weights\"\n",
    "configPath = \"yolov4-tiny.cfg\"\n",
    "\n",
    "#Loading YOLO model - [1]\n",
    "net = cv2.dnn.readNetFromDarknet(configPath, weightsPath) #Load YOLO model to Open CV \n",
    "ln = net.getLayerNames() #Get names of all layers used in the network\n",
    "ln = [ln[i[0] - 1] for i in net.getUnconnectedOutLayers()] #Gets index of the output layers"
   ]
  },
  {
   "cell_type": "markdown",
   "metadata": {},
   "source": [
    "## TASK 1 - Identify & count cars in each frame"
   ]
  },
  {
   "cell_type": "code",
   "execution_count": 3,
   "metadata": {},
   "outputs": [],
   "source": [
    "def detect_cars(obj):\n",
    "    # Detect cars function takes in the class id passed to it and returns 1 if the corresponding label from the COCO dataset \n",
    "    # for that class id car else it returns 0   \n",
    "    \n",
    "    if(LABELS[obj]==\"car\"):\n",
    "        return 1\n",
    "    else:\n",
    "        return 0"
   ]
  },
  {
   "cell_type": "code",
   "execution_count": 4,
   "metadata": {},
   "outputs": [
    {
     "name": "stdout",
     "output_type": "stream",
     "text": [
      "Processing Video..\n",
      "** 0 % completed **\n",
      "** 25.0 % completed **\n",
      "** 50.0 % completed **\n",
      "** 75.0 % completed **\n",
      "** 100.0 % completed **\n",
      "Task 1: Average Throughput is  6.58  frames processed per second\n",
      "Task 1: Time taken to execute full query:  133.2  seconds\n"
     ]
    }
   ],
   "source": [
    "## TASK 1 - [1]\n",
    "\n",
    "#Initialize\n",
    "total_cars = []\n",
    "time_per_frame = []\n",
    "frame_per_second = []\n",
    "count = 0\n",
    "               \n",
    "query_start = time.perf_counter()\n",
    "\n",
    "#reading Video clip from local\n",
    "cap = cv2.VideoCapture('assignment-clip.mp4')\n",
    "start = time.perf_counter()\n",
    "\n",
    "try:\n",
    "    total = int(cap.get(cv2.CAP_PROP_FRAME_COUNT)) #saving the total number of frames in the video\n",
    "except:\n",
    "    print(\"Could not determine # of frames in video\")\n",
    "\n",
    "while cap.isOpened():\n",
    "    frame_returned, frame = cap.read()\n",
    "    car_count = 0\n",
    "        \n",
    "    if frame_returned: \n",
    "        complete_status = (count/total)*100\n",
    "        if(count == 0):\n",
    "            print(\"Processing Video..\")\n",
    "            print(\"**\",count,\"% completed **\")\n",
    "        elif(complete_status % 25 == 0):\n",
    "            print(\"**\",complete_status,\"% completed **\")\n",
    "        frame_start = time.perf_counter()\n",
    "        \n",
    "        H, W = frame.shape[:2]\n",
    "        \n",
    "        #create 4D blob from input frame & do a forward pass of YOLO\n",
    "        blob = cv2.dnn.blobFromImage(frame, 1 / 255.0, (416, 416),swapRB=True, crop=False)\n",
    "        net.setInput(blob)\n",
    "        layerOutputs = net.forward(ln) \n",
    "        \n",
    "        boxes = []\n",
    "        confidences = []\n",
    "        classIDs = []\n",
    "     \n",
    "        # loop over each layer outputs\n",
    "        for output in layerOutputs:\n",
    "\n",
    "            # loop over each of detected objects\n",
    "            for detection in output:\n",
    "\n",
    "                # extract the class id (label) and confidence (as a probability) of\n",
    "                # the current object detection\n",
    "                scores = detection[5:]\n",
    "                classID = np.argmax(scores)\n",
    "                confidence = scores[classID]\n",
    "\n",
    "                #checking if the confidence found by YOLO is greater than set confidence value of 0.5\n",
    "                if confidence > CONFIDENCE: \n",
    "                    #getting the box coordinates for the detected object\n",
    "                    box = detection[0:4] * np.array([W, H, W, H])  \n",
    "                    (centerX, centerY, width, height) = box.astype(\"int\")\n",
    "\n",
    "                    x = int(centerX - (width / 2))\n",
    "                    y = int(centerY - (height / 2))\n",
    "\n",
    "                    boxes.append([x, y, int(width), int(height)])\n",
    "                    confidences.append(float(confidence))\n",
    "                    classIDs.append(classID)\n",
    "        idxs = cv2.dnn.NMSBoxes(boxes, confidences, SCORE_THRESHOLD, IOU_THRESHOLD)\n",
    "\n",
    "        #checking if a detection exisits in the frame\n",
    "        if len(idxs) > 0:\n",
    "\n",
    "            # loop over the indexes we are keeping\n",
    "            for i in idxs.flatten():\n",
    "                car_count += detect_cars(classIDs[i])\n",
    "        \n",
    "        total_cars.append(car_count)\n",
    "        \n",
    "        #calculating elapsed time\n",
    "        elapsed_time = time.perf_counter() - start\n",
    "        fps = count / elapsed_time\n",
    "        time_per_frame.append(elapsed_time)\n",
    "        frame_per_second.append(fps)\n",
    "        \n",
    "        count += 1 \n",
    "        cap.set(1, count) #this advances the video by one second\n",
    "    else:\n",
    "        cap.release()\n",
    "        print(\"**\",(count*100)/total,\"% completed **\")\n",
    "        break\n",
    "\n",
    "#writing output to a csv file        \n",
    "output1 = pd.DataFrame(columns = ['Total Cars'])\n",
    "output1['Total Cars']=total_cars\n",
    "task1_output = pd.DataFrame(output1)\n",
    "task1_output.to_csv(\"Devishree_task1_output.csv\",mode='w+')\n",
    "\n",
    "query_end = time.perf_counter()\n",
    "print(\"Task 1: Average Throughput is \",round((sum(frame_per_second))/total,2),\" frames processed per second\")\n",
    "print(\"Task 1: Time taken to execute full query: \",round(query_end-query_start,2),\" seconds\")"
   ]
  },
  {
   "cell_type": "code",
   "execution_count": 5,
   "metadata": {},
   "outputs": [],
   "source": [
    "y_truth = groundtruth['Total'].values\n",
    "y_pred = np.array(total_cars)"
   ]
  },
  {
   "cell_type": "code",
   "execution_count": 28,
   "metadata": {},
   "outputs": [],
   "source": [
    "def calculate_f1(y_truth,y_pred):\n",
    "    #Calculate F1 function calculates the f1 for the given predicted and ground truth values. \n",
    "    \n",
    "    total_frames = len(y_truth)\n",
    "    p = np.empty(total_frames)\n",
    "    r = np.empty(total_frames)\n",
    "    TP = 0\n",
    "    FP = 0\n",
    "    FN = 0\n",
    "\n",
    "    for i in range(total_frames):\n",
    "        if(y_pred[i]-y_truth[i] == 0):\n",
    "            TP = y_pred[i]\n",
    "        elif(y_pred[i] - y_truth[i] > 0):\n",
    "            TP = y_truth[i]\n",
    "            FP = y_pred[i] - y_truth[i]\n",
    "        elif(y_pred[i] - y_truth[i] < 0):\n",
    "            TP = y_pred[i]\n",
    "            FN = y_truth[i] - y_pred[i]\n",
    "        p[i] = TP/(TP + ~np.isnan(FP))\n",
    "        r[i] = TP/(TP + ~np.isnan(FN))\n",
    "\n",
    "    Precision = sum(p)/total_frames\n",
    "    Recall = sum(r)/total_frames\n",
    "    F1_score = (2 * Precision * Recall)/(Precision + Recall)\n",
    "    return F1_score"
   ]
  },
  {
   "cell_type": "code",
   "execution_count": 7,
   "metadata": {},
   "outputs": [
    {
     "name": "stdout",
     "output_type": "stream",
     "text": [
      "Task 1: F1 score = 0.69\n"
     ]
    }
   ],
   "source": [
    "print(\"Task 1: F1 score =\",round(calculate_f1(y_truth,y_pred),2))"
   ]
  },
  {
   "cell_type": "code",
   "execution_count": 8,
   "metadata": {},
   "outputs": [
    {
     "name": "stdout",
     "output_type": "stream",
     "text": [
      "Task 1: Total car count Accuracy = 49.44 %\n"
     ]
    }
   ],
   "source": [
    "#Calculating Accuracy of the model\n",
    "Total_accr = metrics.accuracy_score(y_truth, y_pred)*100\n",
    "print(\"Task 1: Total car count Accuracy =\",round(Total_accr,2),\"%\")"
   ]
  },
  {
   "cell_type": "code",
   "execution_count": 9,
   "metadata": {},
   "outputs": [
    {
     "data": {
      "image/png": "[encoded data removed]",
      "text/plain": [
       "<Figure size 432x288 with 1 Axes>"
      ]
     },
     "metadata": {
      "needs_background": "light"
     },
     "output_type": "display_data"
    }
   ],
   "source": [
    "import matplotlib.pyplot as plt\n",
    "\n",
    "plt.plot(range(0,total),frame_per_second)\n",
    "plt.title('Task 1: Event Extration per frame')\n",
    "plt.xlabel('Number of Frames')\n",
    "plt.ylabel('Frames per second')\n",
    "plt.show()"
   ]
  },
  {
   "cell_type": "markdown",
   "metadata": {},
   "source": [
    "## Task 2: Identify and count the cars and their types in each frame"
   ]
  },
  {
   "cell_type": "markdown",
   "metadata": {},
   "source": [
    "#### Data Preparation "
   ]
  },
  {
   "cell_type": "code",
   "execution_count": null,
   "metadata": {},
   "outputs": [],
   "source": [
    "# Bing Image Downloader - [2]\n",
    "\n",
    "# pip install bing_image_downloader\n",
    "\n",
    "# from bing_image_downloader import downloader\n",
    "\n",
    "# downloader.download(\"suv cars\", limit=400,  output_dir='dataset_new', adult_filter_off=True, force_replace=False, timeout=60)\n",
    "# downloader.download(\"sedan cars\", limit=400,  output_dir='dataset_new', adult_filter_off=True, force_replace=False, timeout=60)"
   ]
  },
  {
   "cell_type": "code",
   "execution_count": null,
   "metadata": {},
   "outputs": [],
   "source": [
    "# Simple Image Downloader - [3]\n",
    "\n",
    "# pip install simple_image_download\n",
    "\n",
    "# from simple_image_download import simple_image_download as simp\n",
    "\n",
    "# response = simp.simple_image_download\n",
    "\n",
    "# response().download('suv', 300)\n",
    "# response().download('sedan', 300)"
   ]
  },
  {
   "cell_type": "code",
   "execution_count": 10,
   "metadata": {},
   "outputs": [],
   "source": [
    "#Load custom image dataset from local - [4]\n",
    "from pathlib import Path\n",
    "\n",
    "dataset_path = \"dataset\"\n",
    "\n",
    "dataset_path = Path(dataset_path)\n",
    "\n",
    "sedan = list(dataset_path.glob('sedan/*'))\n",
    "suv = list(dataset_path.glob('suv/*'))\n",
    "\n",
    "car_images_dict = {\n",
    "    'suv': list(dataset_path.glob('suv/*')),\n",
    "    'sedan': list(dataset_path.glob('sedan/*'))\n",
    "}\n",
    "\n",
    "car_model_dict = {\n",
    "    'suv': 0,\n",
    "    'sedan': 1\n",
    "}\n",
    "\n",
    "model_key_list = list(car_model_dict.keys())\n",
    "model_value_list = list(car_model_dict.values())"
   ]
  },
  {
   "cell_type": "code",
   "execution_count": 11,
   "metadata": {},
   "outputs": [],
   "source": [
    "#Splitting images and labels into X and y for training purposes - [4]\n",
    "X, y = [], []\n",
    "\n",
    "for model_name, images in car_images_dict.items():\n",
    "    for image in images:\n",
    "        img = cv2.imread(str(image))\n",
    "        try:\n",
    "            resized_img = cv2.resize(img,(224,224),cv2.INTER_AREA) #resizing image so that image shape is same as Keras MobileNet pree-trained model\n",
    "            X.append(resized_img)\n",
    "            y.append(car_model_dict[model_name])\n",
    "        except:\n",
    "            break\n",
    "\n",
    "X = np.array(X)\n",
    "X_scaled = X/255.0 #scaling the image array so that all values are between 0 & 1\n",
    "y = np.array(y)\n",
    "\n",
    "X_train_val, X_test, y_train_val, y_test = train_test_split(X_scaled, y, test_size = 0.2, random_state=0)\n",
    "X_train, X_val, y_train, y_val = train_test_split(X_train_val, y_train_val, test_size = 0.2, random_state=0)"
   ]
  },
  {
   "cell_type": "code",
   "execution_count": 12,
   "metadata": {},
   "outputs": [
    {
     "name": "stdout",
     "output_type": "stream",
     "text": [
      "Model: \"sequential\"\n",
      "_________________________________________________________________\n",
      "Layer (type)                 Output Shape              Param #   \n",
      "=================================================================\n",
      "keras_layer (KerasLayer)     (None, 1280)              2257984   \n",
      "_________________________________________________________________\n",
      "flatten (Flatten)            (None, 1280)              0         \n",
      "_________________________________________________________________\n",
      "dense (Dense)                (None, 128)               163968    \n",
      "_________________________________________________________________\n",
      "dense_1 (Dense)              (None, 2)                 258       \n",
      "=================================================================\n",
      "Total params: 2,422,210\n",
      "Trainable params: 164,226\n",
      "Non-trainable params: 2,257,984\n",
      "_________________________________________________________________\n"
     ]
    }
   ],
   "source": [
    "#Getting pre-trained model which extracts features - [4]\n",
    "feature_extractor_model = \"https://tfhub.dev/google/tf2-preview/mobilenet_v2/feature_vector/4\"\n",
    "\n",
    "pretrained_model_without_top_layer = hub.KerasLayer(\n",
    "    feature_extractor_model, input_shape=(224, 224, 3), trainable=False)\n",
    "\n",
    "#Setting up model \n",
    "model = tf.keras.Sequential([\n",
    "  pretrained_model_without_top_layer, #pretrained MobileNet model\n",
    "  layers.Flatten(),    #flatten output into a single vector\n",
    "  layers.Dense(128, activation='relu'), #fully connected layer\n",
    "  tf.keras.layers.Dense(2) \n",
    "])\n",
    "\n",
    "model.summary()\n",
    "\n",
    "model.compile(optimizer='adam',\n",
    "              loss=tf.keras.losses.SparseCategoricalCrossentropy(from_logits=True), #since data is labelled as integers 0 & 1\n",
    "              metrics=['accuracy'])\n"
   ]
  },
  {
   "cell_type": "code",
   "execution_count": 13,
   "metadata": {},
   "outputs": [
    {
     "name": "stdout",
     "output_type": "stream",
     "text": [
      "Epoch 1/15\n",
      "23/23 [==============================] - 28s 827ms/step - loss: 0.6695 - accuracy: 0.6460\n",
      "Epoch 2/15\n",
      "23/23 [==============================] - 19s 814ms/step - loss: 0.3242 - accuracy: 0.8717\n",
      "Epoch 3/15\n",
      "23/23 [==============================] - 19s 822ms/step - loss: 0.1927 - accuracy: 0.9335\n",
      "Epoch 4/15\n",
      "23/23 [==============================] - 19s 839ms/step - loss: 0.1268 - accuracy: 0.9689\n",
      "Epoch 5/15\n",
      "23/23 [==============================] - 19s 827ms/step - loss: 0.0956 - accuracy: 0.9861\n",
      "Epoch 6/15\n",
      "23/23 [==============================] - 19s 825ms/step - loss: 0.0665 - accuracy: 0.9878\n",
      "Epoch 7/15\n",
      "23/23 [==============================] - 19s 833ms/step - loss: 0.0528 - accuracy: 0.9882\n",
      "Epoch 8/15\n",
      "23/23 [==============================] - 19s 821ms/step - loss: 0.0491 - accuracy: 0.9845\n",
      "Epoch 9/15\n",
      "23/23 [==============================] - 19s 818ms/step - loss: 0.0340 - accuracy: 0.9955\n",
      "Epoch 10/15\n",
      "23/23 [==============================] - 19s 809ms/step - loss: 0.0299 - accuracy: 0.9917\n",
      "Epoch 11/15\n",
      "23/23 [==============================] - 19s 805ms/step - loss: 0.0250 - accuracy: 0.9911\n",
      "Epoch 12/15\n",
      "23/23 [==============================] - 19s 805ms/step - loss: 0.0254 - accuracy: 0.9935\n",
      "Epoch 13/15\n",
      "23/23 [==============================] - 19s 821ms/step - loss: 0.0318 - accuracy: 0.9825\n",
      "Epoch 14/15\n",
      "23/23 [==============================] - 19s 834ms/step - loss: 0.0339 - accuracy: 0.9854\n",
      "Epoch 15/15\n",
      "23/23 [==============================] - 19s 845ms/step - loss: 0.0211 - accuracy: 0.9912\n"
     ]
    },
    {
     "data": {
      "text/plain": [
       "<tensorflow.python.keras.callbacks.History at 0x12dcd6dd910>"
      ]
     },
     "execution_count": 13,
     "metadata": {},
     "output_type": "execute_result"
    }
   ],
   "source": [
    "#Training model on custom image dataset           \n",
    "model.fit(X_train, y_train, epochs=15)"
   ]
  },
  {
   "cell_type": "code",
   "execution_count": 14,
   "metadata": {},
   "outputs": [
    {
     "name": "stdout",
     "output_type": "stream",
     "text": [
      "Validation set\n",
      "6/6 [==============================] - 6s 752ms/step - loss: 0.2517 - accuracy: 0.9558\n",
      "Test set\n",
      "8/8 [==============================] - 6s 719ms/step - loss: 0.1475 - accuracy: 0.9559\n"
     ]
    },
    {
     "data": {
      "text/plain": [
       "[0.14753930270671844, 0.9559471607208252]"
      ]
     },
     "execution_count": 14,
     "metadata": {},
     "output_type": "execute_result"
    }
   ],
   "source": [
    "#Testing model on Validation set\n",
    "print(\"Validation set\")\n",
    "model.evaluate(X_val,y_val)\n",
    "\n",
    "#Testing model on Test set\n",
    "print(\"Test set\")\n",
    "model.evaluate(X_test,y_test)"
   ]
  },
  {
   "cell_type": "code",
   "execution_count": 15,
   "metadata": {},
   "outputs": [],
   "source": [
    "def predict_model(img):\n",
    "    #Predict model function resizes the input image and sends the image with padding to the Keras model's predict function.\n",
    "    #The max probability of the Keras model's result is considered as the predicted class. \n",
    "    #The output of this function is to return the car model name from the predicted class.\n",
    "    \n",
    "    while True:\n",
    "        try:\n",
    "            img = cv2.resize(img,(224,224),cv2.INTER_AREA) #resizing cropped image from the frame\n",
    "            result = model.predict(img[np.newaxis, ...]) #adding a padding to the image before calling the predict function\n",
    "            predicted_label_index = np.argmax(result) #selecting the label with the most probability\n",
    "            model_name = model_key_list[model_value_list.index(predicted_label_index)]\n",
    "            return model_name\n",
    "        except:\n",
    "            break"
   ]
  },
  {
   "cell_type": "code",
   "execution_count": 29,
   "metadata": {},
   "outputs": [
    {
     "name": "stdout",
     "output_type": "stream",
     "text": [
      "Processing Video..\n",
      "** 0 % completed **\n",
      "** 25.0 % completed **\n",
      "** 50.0 % completed **\n",
      "** 75.0 % completed **\n",
      "** 100.0 % completed **\n",
      "Task 2: Average Throughput is  1.58  frames processed per second\n",
      "Task 2: Time taken to execute full query: 591.06  seconds\n"
     ]
    }
   ],
   "source": [
    "## Task 2: - [1]\n",
    "\n",
    "#Initialization\n",
    "count = 0\n",
    "total_cars = []\n",
    "total_suv = []\n",
    "total_sedan = []\n",
    "time_per_frame = []\n",
    "frame_per_second = []\n",
    "query_start = time.perf_counter()\n",
    "\n",
    "cap = cv2.VideoCapture('assignment-clip.mp4')\n",
    "start = time.perf_counter()\n",
    "\n",
    "try:\n",
    "    total = int(cap.get(cv2.CAP_PROP_FRAME_COUNT))\n",
    "except:\n",
    "    print(\"Could not determine # of frames in video\")\n",
    "\n",
    "#initialization for writing output of each frame into a mp4 video       \n",
    "_, frame = cap.read()\n",
    "h, w = frame.shape[:2]\n",
    "fourcc = cv2.VideoWriter_fourcc(*\"MP4V\")\n",
    "out = cv2.VideoWriter(\"Devishree_Assignment1_video.mp4\", fourcc, 20.0, (w, h))\n",
    "\n",
    "while cap.isOpened():\n",
    "    frame_returned, frame = cap.read()\n",
    "    sedan_count = 0\n",
    "    suv_count = 0\n",
    "        \n",
    "    if frame_returned: \n",
    "        complete_status = (count/total)*100\n",
    "        if(count == 0):\n",
    "            print(\"Processing Video..\")\n",
    "            print(\"**\",count,\"% completed **\")\n",
    "        elif(complete_status % 25 == 0):\n",
    "            print(\"**\",complete_status,\"% completed **\")\n",
    "        frame_start = time.perf_counter()\n",
    "        \n",
    "        H, W = frame.shape[:2]\n",
    "        \n",
    "        #create 4D blob from input frame & do a forward pass of YOLO\n",
    "        blob = cv2.dnn.blobFromImage(frame, 1 / 255.0, (416, 416),swapRB=True, crop=False)\n",
    "        net.setInput(blob)\n",
    "        layerOutputs = net.forward(ln)\n",
    "        \n",
    "        boxes = []\n",
    "        confidences = []\n",
    "        classIDs = []\n",
    "     \n",
    "        # loop over each layer outputs\n",
    "        for output in layerOutputs:\n",
    "\n",
    "            # loop over each of detected objects\n",
    "            for detection in output:\n",
    "\n",
    "                # extract the class id (label) and confidence (as a probability) of\n",
    "                # the current object detection\n",
    "                scores = detection[5:]\n",
    "                classID = np.argmax(scores)\n",
    "                confidence = scores[classID]\n",
    "\n",
    "                if confidence > CONFIDENCE:\n",
    "                    box = detection[0:4] * np.array([W, H, W, H])\n",
    "                    (centerX, centerY, width, height) = box.astype(\"int\")\n",
    "\n",
    "                    x = int(centerX - (width / 2))\n",
    "                    y = int(centerY - (height / 2))\n",
    "\n",
    "                    boxes.append([x, y, int(width), int(height)])\n",
    "                    confidences.append(float(confidence))\n",
    "                    classIDs.append(classID)\n",
    "        idxs = cv2.dnn.NMSBoxes(boxes, confidences, SCORE_THRESHOLD, IOU_THRESHOLD)\n",
    "\n",
    "        #checking if a detection exisits in the frame\n",
    "        if len(idxs) > 0:\n",
    "\n",
    "            # loop over the indexes we are keeping\n",
    "            for i in idxs.flatten():\n",
    "                \n",
    "                if(detect_cars(classIDs[i])):                #Calling Detect cars function\n",
    "                    (x, y) = (boxes[i][0], boxes[i][1])\n",
    "                    (w, h) = (boxes[i][2], boxes[i][3])\n",
    "                    crop_img = frame[y:y+h, x:x+w]\n",
    "                    crop_img=crop_img/255.0\n",
    "\n",
    "                    model_name = predict_model(crop_img)     #Calling Predict model function to classify detected cars\n",
    "                    if(model_name == \"suv\"):\n",
    "                        suv_count += 1\n",
    "                    elif(model_name == \"sedan\"):\n",
    "                        sedan_count += 1\n",
    "\n",
    "                cv2.rectangle(frame, (x, y), (x + w, y + h), (0,255,255), 2)                \n",
    "                text = \"{}: {:.4f}\".format(model_name, confidences[i])\n",
    "                cv2.putText(frame, text, (x, y - 5), cv2.FONT_HERSHEY_SIMPLEX,0.5, (0,255,255), 2)\n",
    "\n",
    "        elapsed_time = time.perf_counter() - start\n",
    "        fps = count / elapsed_time\n",
    "        time_per_frame.append(elapsed_time)\n",
    "        frame_per_second.append(fps)\n",
    "        \n",
    "        annotation = \"Frame no: \"+str(count+1)+\"\\nTotal suv: \"+str(suv_count)+\"\\nTotal sedan: \"+str(sedan_count)+\"\\nTotal cars: \"+str(suv_count+sedan_count)+\"\\nFPS: \"+str(round(fps,2))\n",
    "        y0, dy = 50, 20\n",
    "        for i, line in enumerate(annotation.split('\\n')):\n",
    "            y = y0 + i*dy\n",
    "            cv2.putText(frame, line, (50, y ), cv2.FONT_HERSHEY_SIMPLEX, 0.5,(0, 0, 0), 1)\n",
    "            \n",
    "        total_cars.append(suv_count+sedan_count)\n",
    "        total_suv.append(suv_count)\n",
    "        total_sedan.append(sedan_count)\n",
    "        out.write(frame)\n",
    "        \n",
    "        count += 1 # this advances one second\n",
    "        cap.set(1, count)\n",
    "    \n",
    "    else:\n",
    "        cap.release()\n",
    "        out.release()\n",
    "        print(\"**\",(count*100)/total,\"% completed **\")\n",
    "        break\n",
    "\n",
    "#Writing output into a csv file        \n",
    "output2 = pd.DataFrame(columns = ['Sedan','SUV','Total Cars'])\n",
    "output2['SUV'] = total_suv\n",
    "output2['Sedan'] = total_sedan\n",
    "output2['Total Cars']=total_cars\n",
    "task2_output = pd.DataFrame(output2)\n",
    "task2_output.to_csv(\"Devishree_task2_output.csv\",mode='w+')\n",
    "\n",
    "query_end = time.perf_counter()\n",
    "print(\"Task 2: Average Throughput is \",round((sum(frame_per_second))/total,2),\" frames processed per second\")\n",
    "print(\"Task 2: Time taken to execute full query:\",round(query_end-query_start,2),\" seconds\")"
   ]
  },
  {
   "cell_type": "code",
   "execution_count": 17,
   "metadata": {},
   "outputs": [],
   "source": [
    "#Comparing model to groundtruth data\n",
    "y_truth_total = groundtruth['Total'].values\n",
    "y_pred_total = np.array(total_cars)\n",
    "\n",
    "y_truth_suv = groundtruth['SUV'].values\n",
    "y_pred_suv = np.array(total_suv)\n",
    "\n",
    "y_truth_sedan = groundtruth['Sedan'].values\n",
    "y_pred_sedan = np.array(total_sedan)"
   ]
  },
  {
   "cell_type": "code",
   "execution_count": 18,
   "metadata": {},
   "outputs": [
    {
     "name": "stdout",
     "output_type": "stream",
     "text": [
      "Task 2:\n",
      "Total car count Accuracy = 46.33 %\n",
      "SUV count Accuracy = 31.0 %\n",
      "Sedan count Accuracy = 33.89 %\n"
     ]
    }
   ],
   "source": [
    "#Calculating Accuracy of the model\n",
    "print(\"Task 2:\")\n",
    "Total_accr = metrics.accuracy_score(y_truth_total, y_pred_total)*100\n",
    "print(\"Total car count Accuracy =\",round(Total_accr,2),\"%\")\n",
    "\n",
    "SUV_accr = metrics.accuracy_score(y_truth_suv, y_pred_suv)*100\n",
    "print(\"SUV count Accuracy =\",round(SUV_accr,2),\"%\")\n",
    "\n",
    "Sedan_accr = metrics.accuracy_score(y_truth_sedan, y_pred_sedan)*100\n",
    "print(\"Sedan count Accuracy =\",round(Sedan_accr,2),\"%\")"
   ]
  },
  {
   "cell_type": "code",
   "execution_count": 19,
   "metadata": {},
   "outputs": [
    {
     "name": "stdout",
     "output_type": "stream",
     "text": [
      "Task 2:\n",
      "F1 score for Total Car count = 0.68\n",
      "F1 score for SUV count = 0.51\n",
      "F1 score for Sedan count = 0.33\n"
     ]
    }
   ],
   "source": [
    "#Calculating F1 score for the model\n",
    "print(\"Task 2:\")\n",
    "total_f1 = round(calculate_f1(y_truth_total,y_pred_total),2)\n",
    "print(\"F1 score for Total Car count =\",total_f1)\n",
    "\n",
    "SUV_f1 = round(calculate_f1(y_truth_suv, y_pred_suv),2)\n",
    "print(\"F1 score for SUV count =\",SUV_f1)\n",
    "\n",
    "Sedan_f1 = round(calculate_f1(y_truth_sedan, y_pred_sedan),2)\n",
    "print(\"F1 score for Sedan count =\",Sedan_f1)"
   ]
  },
  {
   "cell_type": "code",
   "execution_count": 20,
   "metadata": {},
   "outputs": [
    {
     "data": {
      "image/png": "[encoded data removed]",
      "text/plain": [
       "<Figure size 432x288 with 1 Axes>"
      ]
     },
     "metadata": {
      "needs_background": "light"
     },
     "output_type": "display_data"
    }
   ],
   "source": [
    "import matplotlib.pyplot as plt\n",
    "\n",
    "plt.plot(range(0,total),frame_per_second)\n",
    "plt.title('Task 2: Event Extration per frame')\n",
    "plt.xlabel('Number of Frames')\n",
    "plt.ylabel('Frames per second')\n",
    "plt.show()"
   ]
  },
  {
   "cell_type": "markdown",
   "metadata": {},
   "source": [
    "## OPTIMIZATION: Q2"
   ]
  },
  {
   "cell_type": "code",
   "execution_count": 21,
   "metadata": {},
   "outputs": [
    {
     "name": "stdout",
     "output_type": "stream",
     "text": [
      "Processing Video\n",
      "** 0 % completed **\n",
      "Nothing in queue, consumer is waiting\n",
      "Producer added something to queue and notified the consumer\n",
      "** 25.0 % completed **\n",
      "** 50.0 % completed **\n",
      "** 75.0 % completed **\n",
      "** 100.0 % completed **\n",
      "Post Optimization: Average Throughput is  1.34  frames processed per second\n",
      "Post Optimization: Time taken to execute full query:  660.93  seconds\n"
     ]
    }
   ],
   "source": [
    "#Pipeline optimization using Producer Consumer - [5]\n",
    "\n",
    "from threading import Thread, Condition\n",
    "import time\n",
    "import random\n",
    "\n",
    "queue = []\n",
    "total_cars_opt = []\n",
    "total_suv_opt = []\n",
    "total_sedan_opt = []\n",
    "frame_per_second_opt = []\n",
    "count = 0\n",
    "cap = cv2.VideoCapture('assignment-clip.mp4')\n",
    "\n",
    "query_start = time.perf_counter()\n",
    "start = time.perf_counter()\n",
    "#frame_start = 0\n",
    "\n",
    "_, frame = cap.read()\n",
    "h, w = frame.shape[:2]\n",
    "fourcc = cv2.VideoWriter_fourcc(*\"MP4V\")\n",
    "out = cv2.VideoWriter(\"Devishree_optimization_output.mp4\", fourcc, 20.0, (w, h))\n",
    "\n",
    "try:\n",
    "    total = int(cap.get(cv2.CAP_PROP_FRAME_COUNT))\n",
    "except:\n",
    "    print(\"Could not determine # of frames in video\")\n",
    "\n",
    "condition = Condition()\n",
    "\n",
    "\n",
    "class ProducerThread(Thread):\n",
    "    def run(self):\n",
    "        \n",
    "        global queue\n",
    "        global count\n",
    "        global cap\n",
    "        global total\n",
    "        global total_cars_opt \n",
    "        global total_suv_opt\n",
    "        global total_sedan_opt\n",
    "        global frame_per_second_opt\n",
    "        global query_start\n",
    "        global out\n",
    "        \n",
    "        while cap.isOpened():\n",
    "            #try:\n",
    "            condition.acquire() \n",
    "\n",
    "            frame_returned, frame = cap.read()\n",
    "                        \n",
    "            if frame_returned: \n",
    "                \n",
    "                queue.append(frame)\n",
    "                \n",
    "                condition.notify()\n",
    "                condition.release()\n",
    "                time.sleep(random.random())\n",
    "                \n",
    "            else:\n",
    "                cap.release()\n",
    "                out.release()\n",
    "                \n",
    "                print(\"**\",((count)*100)/total,\"% completed **\")\n",
    "                \n",
    "                output2_opt = pd.DataFrame(columns = ['Sedan','SUV','Total Cars'])\n",
    "                output2_opt['SUV'] = total_suv_opt\n",
    "                output2_opt['Sedan'] = total_sedan_opt\n",
    "                output2_opt['Total Cars']=total_cars_opt\n",
    "                task2_opt_output = pd.DataFrame(output2_opt)\n",
    "                task2_opt_output.to_csv(\"Devishree_optimization_output.csv\",mode='w+')\n",
    "\n",
    "                query_end = time.perf_counter()\n",
    "                print(\"Post Optimization: Average Throughput is \",round((sum(frame_per_second_opt))/total,2),\" frames processed per second\")\n",
    "                print(\"Post Optimization: Time taken to execute full query: \",round(query_end-query_start,2),\" seconds\") \n",
    "                \n",
    "                break\n",
    "                \n",
    "class ConsumerThread(Thread):\n",
    "    def run(self):\n",
    "        global queue\n",
    "        global count\n",
    "        global cap \n",
    "        global total\n",
    "        global start\n",
    "        global frame_start\n",
    "        global out\n",
    "        \n",
    "        time_per_frame_opt = []\n",
    "\n",
    "        while True:\n",
    "            try:\n",
    "                condition.acquire()\n",
    "                if not queue:\n",
    "                    print (\"Nothing in queue, consumer is waiting\")\n",
    "                    condition.wait()\n",
    "                    \n",
    "                    print (\"Producer added something to queue and notified the consumer\")\n",
    "                     \n",
    "                sedan_count = 0\n",
    "                suv_count = 0\n",
    "                    \n",
    "                frame = queue.pop(0)\n",
    "                frame_start = time.perf_counter()\n",
    "\n",
    "                H, W = frame.shape[:2]\n",
    "\n",
    "                #create 4D blob from input frame & do a forward pass of YOLO\n",
    "                blob = cv2.dnn.blobFromImage(frame, 1 / 255.0, (416, 416),swapRB=True, crop=False)\n",
    "                net.setInput(blob)\n",
    "                layerOutputs = net.forward(ln)\n",
    "\n",
    "                boxes = []\n",
    "                confidences = []\n",
    "                classIDs = []\n",
    "\n",
    "                # loop over each layer outputs\n",
    "                for output in layerOutputs:\n",
    "\n",
    "                    # loop over each of detected objects\n",
    "                    for detection in output:\n",
    "\n",
    "                        # extract the class id (label) and confidence (as a probability) of\n",
    "                        # the current object detection\n",
    "                        scores = detection[5:]\n",
    "                        classID = np.argmax(scores)\n",
    "                        confidence = scores[classID]\n",
    "\n",
    "                        if confidence > CONFIDENCE:\n",
    "                            box = detection[0:4] * np.array([W, H, W, H])\n",
    "                            (centerX, centerY, width, height) = box.astype(\"int\")\n",
    "\n",
    "                            x = int(centerX - (width / 2))\n",
    "                            y = int(centerY - (height / 2))\n",
    "\n",
    "                            boxes.append([x, y, int(width), int(height)])\n",
    "                            confidences.append(float(confidence))\n",
    "                            classIDs.append(classID)\n",
    "                idxs = cv2.dnn.NMSBoxes(boxes, confidences, SCORE_THRESHOLD, IOU_THRESHOLD)\n",
    "\n",
    "                if len(idxs) > 0:\n",
    "\n",
    "                    for i in idxs.flatten():\n",
    "                        if(detect_cars(classIDs[i])):\n",
    "                            (x, y) = (boxes[i][0], boxes[i][1])\n",
    "                            (w, h) = (boxes[i][2], boxes[i][3])\n",
    "                            crop_img = frame[y:y+h, x:x+w]\n",
    "                            crop_img=crop_img/255.0\n",
    "\n",
    "                            model_name = predict_model(crop_img)\n",
    "                            if(model_name == \"suv\"):\n",
    "                                suv_count += 1\n",
    "                            elif(model_name == \"sedan\"):\n",
    "                                sedan_count += 1\n",
    "\n",
    "                        cv2.rectangle(frame, (x, y), (x + w, y + h), (0,255,255), 2)                \n",
    "                        text = \"{}: {:.4f}\".format(model_name, confidences[i])\n",
    "                        cv2.putText(frame, text, (x, y - 5), cv2.FONT_HERSHEY_SIMPLEX,0.5, (0,255,255), 2)\n",
    "\n",
    "                elapsed_time = time.perf_counter() - start\n",
    "                fps = count / elapsed_time\n",
    "\n",
    "                time_per_frame_opt = [].append(elapsed_time)\n",
    "                frame_per_second_opt.append(fps)   \n",
    "\n",
    "                annotation = \"Frame no: \"+str(count+1)+\"\\nTotal suv: \"+str(suv_count)+\"\\nTotal sedan: \"+str(sedan_count)+\"\\nTotal cars: \"+str(suv_count+sedan_count)+\"\\nFPS: \"+str(round(fps,2))\n",
    "                y0, dy = 50, 20\n",
    "                for i, line in enumerate(annotation.split('\\n')):\n",
    "                    y = y0 + i*dy\n",
    "                    cv2.putText(frame, line, (50, y ), cv2.FONT_HERSHEY_SIMPLEX, 0.5,(0, 0, 0), 1)\n",
    "\n",
    "                total_cars_opt.append(suv_count+sedan_count)\n",
    "                total_suv_opt.append(suv_count)\n",
    "                total_sedan_opt.append(sedan_count)\n",
    "                out.write(frame)\n",
    "\n",
    "                complete_status = (count/total)*100\n",
    "\n",
    "                if(count == 0):\n",
    "                    print(\"Processing Video\")\n",
    "                    print(\"**\",count,\"% completed **\")\n",
    "                elif(complete_status % 25 == 0):\n",
    "                    print(\"**\",complete_status,\"% completed **\")\n",
    "\n",
    "                count += 1 # this advances one second\n",
    "                cap.set(1, count)\n",
    "                       \n",
    "                \n",
    "                condition.notify()\n",
    "                \n",
    "            finally:\n",
    "                \n",
    "                condition.release()\n",
    "                time.sleep(random.random())\n",
    "\n",
    "\n",
    "ProducerThread().start()\n",
    "ConsumerThread().start()\n"
   ]
  },
  {
   "cell_type": "code",
   "execution_count": 22,
   "metadata": {},
   "outputs": [
    {
     "data": {
      "image/png": "[encoded data removed]",
      "text/plain": [
       "<Figure size 432x288 with 1 Axes>"
      ]
     },
     "metadata": {
      "needs_background": "light"
     },
     "output_type": "display_data"
    }
   ],
   "source": [
    "import matplotlib.pyplot as plt\n",
    "\n",
    "plt.plot(range(0,total),frame_per_second,label = \"model cascade pipeline\")\n",
    "plt.plot(range(0,total),frame_per_second_opt,label = \"optimized pipeline\")\n",
    "plt.title('Event Extration per frame')\n",
    "plt.xlabel('Number of Frames')\n",
    "plt.ylabel('Frames per second')\n",
    "plt.legend()\n",
    "plt.show()"
   ]
  },
  {
   "cell_type": "code",
   "execution_count": 23,
   "metadata": {},
   "outputs": [],
   "source": [
    "#Comparing model to groundtruth data\n",
    "y_truth_total = groundtruth['Total'].values\n",
    "y_pred_total_opt = np.array(total_cars_opt)\n",
    "\n",
    "y_truth_suv = groundtruth['SUV'].values\n",
    "y_pred_suv_opt = np.array(total_suv_opt)\n",
    "\n",
    "y_truth_sedan = groundtruth['Sedan'].values\n",
    "y_pred_sedan_opt = np.array(total_sedan_opt)"
   ]
  },
  {
   "cell_type": "code",
   "execution_count": 24,
   "metadata": {},
   "outputs": [
    {
     "name": "stdout",
     "output_type": "stream",
     "text": [
      "For Optimized Pipeline:\n",
      "Total car count Accuracy =  22.67 %\n",
      "SUV count Accuracy =  33.78 %\n",
      "Sedan count Accuracy =  27.0 %\n"
     ]
    }
   ],
   "source": [
    "#Calculating Accuracy of the model\n",
    "print(\"For Optimized Pipeline:\")\n",
    "Total_accr_opt = metrics.accuracy_score(y_truth_total, y_pred_total_opt)*100\n",
    "print(\"Total car count Accuracy = \",round(Total_accr_opt,2),\"%\")\n",
    "\n",
    "SUV_accr_opt = metrics.accuracy_score(y_truth_suv, y_pred_suv_opt)*100\n",
    "print(\"SUV count Accuracy = \",round(SUV_accr_opt,2),\"%\")\n",
    "\n",
    "Sedan_accr_opt = metrics.accuracy_score(y_truth_sedan, y_pred_sedan_opt)*100\n",
    "print(\"Sedan count Accuracy = \",round(Sedan_accr_opt,2),\"%\")"
   ]
  },
  {
   "cell_type": "code",
   "execution_count": 25,
   "metadata": {},
   "outputs": [
    {
     "name": "stdout",
     "output_type": "stream",
     "text": [
      "For Optimized Pipeline:\n",
      "F1 score for Total Car count =  0.63\n",
      "F1 score for SUV count =  0.48\n",
      "F1 score for Sedan count =  0.24\n"
     ]
    }
   ],
   "source": [
    "#Calculating F1 score for the model\n",
    "print(\"For Optimized Pipeline:\")\n",
    "total_f1_opt = round(calculate_f1(y_truth_total,y_pred_total_opt),2)\n",
    "print(\"F1 score for Total Car count = \",total_f1_opt)\n",
    "\n",
    "SUV_f1_opt = round(calculate_f1(y_truth_suv, y_pred_suv_opt),2)\n",
    "print(\"F1 score for SUV count = \",SUV_f1_opt)\n",
    "\n",
    "Sedan_f1_opt = round(calculate_f1(y_truth_sedan, y_pred_sedan_opt),2)\n",
    "print(\"F1 score for Sedan count = \",Sedan_f1_opt)"
   ]
  },
  {
   "cell_type": "code",
   "execution_count": 26,
   "metadata": {},
   "outputs": [
    {
     "data": {
      "image/png": "[encoded data removed]",
      "text/plain": [
       "<Figure size 432x288 with 1 Axes>"
      ]
     },
     "metadata": {
      "needs_background": "light"
     },
     "output_type": "display_data"
    }
   ],
   "source": [
    "import matplotlib.pyplot as plt\n",
    "\n",
    "accuracy_plot = pd.DataFrame({\n",
    "    \"model cascade pipeline\": [Total_accr,SUV_accr,Sedan_accr],\n",
    "    \"optimized pipeline\":[Total_accr_opt,SUV_accr_opt,Sedan_accr_opt]\n",
    "    },\n",
    "    index = [\"Total cars\",\"SUV\",\"Sedan\"]\n",
    ")\n",
    "\n",
    "accuracy_plot.plot.bar(rot=0) \n",
    "plt.title('Overall Accuracy for Model cascade vs Optimized pipeline')\n",
    "plt.ylabel('Accuracy')\n",
    "plt.show()"
   ]
  },
  {
   "cell_type": "code",
   "execution_count": 27,
   "metadata": {},
   "outputs": [
    {
     "data": {
      "image/png": "[encoded data removed]",
      "text/plain": [
       "<Figure size 432x288 with 1 Axes>"
      ]
     },
     "metadata": {
      "needs_background": "light"
     },
     "output_type": "display_data"
    }
   ],
   "source": [
    "import matplotlib.pyplot as plt\n",
    "\n",
    "f1_plot = pd.DataFrame({\n",
    "    \"model cascade pipeline\": [total_f1,SUV_f1,Sedan_f1],\n",
    "    \"optimized pipeline\":[total_f1_opt,SUV_f1_opt,Sedan_f1_opt]\n",
    "    },\n",
    "    index = [\"Total cars\",\"SUV\",\"Sedan\"]\n",
    ")\n",
    "\n",
    "f1_plot.plot.bar(rot=0) \n",
    "plt.title('Overall F1 score for Model cascade vs Optimized pipeline')\n",
    "plt.ylabel('F1 scores')\n",
    "plt.show()"
   ]
  },
  {
   "cell_type": "markdown",
   "metadata": {},
   "source": [
    "### References / Citations\n",
    "\n",
    "[1] https://www.thepythoncode.com/code/yolo-object-detection-with-opencv-and-pytorch-in-python <br>\n",
    "[2] https://pypi.org/project/bing-image-downloader/\n",
    "devis[4] https://github.com/codebasics/deep-learning-keras-tf-tutorial/blob/master/18_transfer_learning/cnn_transfer_learning.ipynb <br>\n",
    "[3] https://www.agiliq.com/blog/2013/10/producer-consumer-problem-in-python/"
   ]
  }
 ],
 "metadata": {
  "kernelspec": {
   "display_name": "Python 3",
   "language": "python",
   "name": "python3"
  },
  "language_info": {
   "codemirror_mode": {
    "name": "ipython",
    "version": 3
   },
   "file_extension": ".py",
   "mimetype": "text/x-python",
   "name": "python",
   "nbconvert_exporter": "python",
   "pygments_lexer": "ipython3",
   "version": "3.8.3"
  }
 },
 "nbformat": 4,
 "nbformat_minor": 4
}
